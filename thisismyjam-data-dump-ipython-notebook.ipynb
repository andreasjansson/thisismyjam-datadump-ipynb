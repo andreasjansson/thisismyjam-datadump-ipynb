{
 "cells": [
  {
   "cell_type": "markdown",
   "metadata": {},
   "source": [
    "#  This Is My Jam - Data Dump"
   ]
  },
  {
   "cell_type": "markdown",
   "metadata": {},
   "source": [
    "Andreas Jansson, 2015. gmail: andreas.s.t.jansson"
   ]
  },
  {
   "cell_type": "markdown",
   "metadata": {},
   "source": [
    "[This Is My Jam](http://www.thisismyjam.com) was an online social music service, founded in London in 2011. It went into read-only [archive mode](http://thisismyjam.tumblr.com/post/126260430022/jam-preserves) in September 2015.\n",
    "\n",
    "As part of archiving the site we are releasing an [anonymized dump of the final database](https://archive.org/details/thisismyjam-datadump). In this notebook we explore the data from a few different angles to give a sense of possible applications of the data set."
   ]
  },
  {
   "cell_type": "markdown",
   "metadata": {},
   "source": [
    "![logo](https://www.thisismyjam.com/includes/image/archives_logo@2x.png?v=2.0) "
   ]
  },
  {
   "cell_type": "markdown",
   "metadata": {
    "collapsed": true
   },
   "source": [
    "## Download the dataset"
   ]
  },
  {
   "cell_type": "code",
   "execution_count": 4,
   "metadata": {
    "collapsed": false
   },
   "outputs": [
    {
     "name": "stdout",
     "output_type": "stream",
     "text": [
      "Archive:  thisismyjam-datadump.zip\n",
      "   creating: archive/\n",
      "  inflating: archive/followers.tsv   \n",
      "  inflating: archive/jams.tsv        \n",
      "  inflating: archive/likes.tsv       \n"
     ]
    }
   ],
   "source": [
    "%%bash\n",
    "wget --quiet https://archive.org/download/thisismyjam-datadump/thisismyjam-datadump.zip\n",
    "unzip thisismyjam-datadump.zip"
   ]
  },
  {
   "cell_type": "markdown",
   "metadata": {},
   "source": [
    "## Load the data"
   ]
  },
  {
   "cell_type": "markdown",
   "metadata": {},
   "source": [
    "First some imports and helper functions."
   ]
  },
  {
   "cell_type": "code",
   "execution_count": 31,
   "metadata": {
    "collapsed": true
   },
   "outputs": [],
   "source": [
    "%matplotlib inline\n",
    "\n",
    "import pandas as pd\n",
    "import numpy as np\n",
    "import matplotlib.pyplot as plt\n",
    "import collections\n",
    "import string\n",
    "import dateutil.parser\n",
    "from matplotlib import ticker\n",
    "import json\n",
    "import datetime\n",
    "\n",
    "def fuzzy_string(s):\n",
    "    return s.str.lower().replace('[^a-z]', '', regex=True)"
   ]
  },
  {
   "cell_type": "markdown",
   "metadata": {},
   "source": [
    "We will use [Pandas](http://pandas.pydata.org/) to analyze the dataset."
   ]
  },
  {
   "cell_type": "code",
   "execution_count": 21,
   "metadata": {
    "collapsed": false
   },
   "outputs": [
    {
     "name": "stderr",
     "output_type": "stream",
     "text": [
      "Skipping line 57952: expected 7 fields, saw 8\n",
      "\n",
      "Skipping line 846714: expected 7 fields, saw 8\n",
      "\n",
      "Skipping line 1330260: expected 7 fields, saw 8\n",
      "\n",
      "Skipping line 1543478: expected 7 fields, saw 8\n",
      "\n",
      "Skipping line 1579152: expected 7 fields, saw 8\n",
      "Skipping line 1612031: expected 7 fields, saw 8\n",
      "\n",
      "Skipping line 1784169: expected 7 fields, saw 8\n",
      "\n"
     ]
    }
   ],
   "source": [
    "jams = pd.read_csv('archive/jams.tsv', sep='\\t', header=0,\n",
    "                   index_col=None, encoding='utf8',\n",
    "                   escapechar='\\\\',\n",
    "                   error_bad_lines=False)"
   ]
  },
  {
   "cell_type": "markdown",
   "metadata": {},
   "source": [
    "Pandas sometimes has issues with lines with escaped newlines, so we filter bad-looking lines here (there aren't many)"
   ]
  },
  {
   "cell_type": "code",
   "execution_count": 22,
   "metadata": {
    "collapsed": true
   },
   "outputs": [],
   "source": [
    "jams = jams[jams['creation_date'].notnull()]\n",
    "jams = jams[jams['creation_date'].str.startswith('20')]\n",
    "jams['creation_date'] = pd.to_datetime(jams['creation_date'])"
   ]
  },
  {
   "cell_type": "markdown",
   "metadata": {},
   "source": [
    "Finally we set the `song_key` for each song to be a naively normalized artist+title. We'll use this later to compare unique songs. For our purposes it's okay to lose a little data and filter jams with empty song_keys."
   ]
  },
  {
   "cell_type": "code",
   "execution_count": 23,
   "metadata": {
    "collapsed": false
   },
   "outputs": [
    {
     "data": {
      "text/plain": [
       "2087522"
      ]
     },
     "execution_count": 23,
     "metadata": {},
     "output_type": "execute_result"
    }
   ],
   "source": [
    "jams['song_key'] = fuzzy_string(jams['artist'] + jams['title'])\n",
    "jams = jams[jams['song_key'] != '']\n",
    "len(jams)"
   ]
  },
  {
   "cell_type": "markdown",
   "metadata": {},
   "source": [
    "Next we load likes and followers."
   ]
  },
  {
   "cell_type": "code",
   "execution_count": 16,
   "metadata": {
    "collapsed": false
   },
   "outputs": [
    {
     "data": {
      "text/plain": [
       "5968624"
      ]
     },
     "execution_count": 16,
     "metadata": {},
     "output_type": "execute_result"
    }
   ],
   "source": [
    "likes = pd.read_csv('archive/likes.tsv', sep='\\t', header=0,\n",
    "                    index_col=None, encoding='utf8',\n",
    "                    error_bad_lines=False)\n",
    "len(likes)"
   ]
  },
  {
   "cell_type": "code",
   "execution_count": 19,
   "metadata": {
    "collapsed": false
   },
   "outputs": [
    {
     "data": {
      "text/plain": [
       "1603404"
      ]
     },
     "execution_count": 19,
     "metadata": {},
     "output_type": "execute_result"
    }
   ],
   "source": [
    "followers = pd.read_csv('archive/followers.tsv', sep='\\t', header=0,\n",
    "                        index_col=None, encoding='utf8',\n",
    "                        error_bad_lines=False)\n",
    "len(followers)"
   ]
  },
  {
   "cell_type": "markdown",
   "metadata": {},
   "source": [
    "For comparison I crawled YouTube and Billboard Top 100 2011-2015 for the top jams, let's load those datasets too."
   ]
  },
  {
   "cell_type": "code",
   "execution_count": 56,
   "metadata": {
    "collapsed": true
   },
   "outputs": [],
   "source": [
    "%%bash\n",
    "wget --quiet \"https://gist.githubusercontent.com/andreasjansson/0dfa60c3aa9a2cd759a1/raw/11bf3ae9b1dbfc1a6c70d275427fbee888452f80/youtube.txt\"\n",
    "wget --quiet \"https://gist.githubusercontent.com/andreasjansson/f105e98c911f0634edcb/raw/93259edcb040c76ca4fdc2bb7d95ac0df4715cf5/billboard.json\""
   ]
  },
  {
   "cell_type": "code",
   "execution_count": 55,
   "metadata": {
    "collapsed": true
   },
   "outputs": [],
   "source": [
    "with open('billboard.json') as f:\n",
    "    raw = json.load(f)\n",
    "data = []\n",
    "for chart in raw:\n",
    "    for song in chart['songs']:\n",
    "        date = dateutil.parser.parse(chart['date'])\n",
    "        data.append([date, song['artist'], song['title'], song['position']])\n",
    "billboard = pd.DataFrame(data, columns=['date', 'artist', 'title', 'position'])\n",
    "billboard['song_key'] = fuzzy_string(billboard['artist'].replace(' feat.+$', '', regex=True) + billboard['title'])\n",
    "\n",
    "def get_billboard_top_position(df):\n",
    "    top_row = df[df['position'] == np.min(df['position'])].iloc[0]\n",
    "    return '%s (%s)' % (top_row['position'], top_row['date'].strftime('%Y-%m-%d'))\n",
    "\n",
    "billboard_top_positions = (billboard\n",
    "                           .groupby('song_key')\n",
    "                           .apply(get_billboard_top_position)\n",
    "                           .reset_index())\n",
    "billboard_top_positions.columns = ['song_key', 'billboard_top_position']"
   ]
  },
  {
   "cell_type": "code",
   "execution_count": 61,
   "metadata": {
    "collapsed": true
   },
   "outputs": [],
   "source": [
    "data = {}\n",
    "with open('youtube.txt') as f:\n",
    "    for line in f:\n",
    "        song_key, youtube_plays = line.strip().split()\n",
    "        data[song_key] = int(youtube_plays)\n",
    "youtube = pd.DataFrame([{'song_key': song_key, 'youtube_plays': youtube_plays}\n",
    "                        for song_key, youtube_plays in data.iteritems()])"
   ]
  },
  {
   "cell_type": "markdown",
   "metadata": {},
   "source": [
    "It's also interesting to look at which jams were active during a particular day, not just jams posted. We generate that data and store it in `daily_jams`."
   ]
  },
  {
   "cell_type": "code",
   "execution_count": 27,
   "metadata": {
    "collapsed": false
   },
   "outputs": [],
   "source": [
    "JAM_END_DATE = dateutil.parser.parse('2015-09-26')\n",
    "\n",
    "def fill_prev_dates(data, next_date, prev_date, prev_row):\n",
    "    if prev_date is not None:\n",
    "        cur_date = prev_date\n",
    "        end_date = prev_date + datetime.timedelta(days=7)\n",
    "        while True:\n",
    "            cur_date += datetime.timedelta(days=1)\n",
    "            prev_row = prev_row.copy()\n",
    "            if cur_date >= next_date or cur_date >= end_date:\n",
    "                break\n",
    "            prev_row['creation_date'] = cur_date\n",
    "            data.append(prev_row)\n",
    "\n",
    "def fill_dates(df):\n",
    "    data = []\n",
    "    prev_row = None\n",
    "    prev_date = None\n",
    "    for row in df.to_dict('records'):\n",
    "        fill_prev_dates(data, row['creation_date'], prev_date, prev_row)\n",
    "        data.append(row)\n",
    "        prev_date = row['creation_date']\n",
    "        prev_row = row\n",
    "    fill_prev_dates(data, JAM_END_DATE, prev_date, prev_row)\n",
    "    return pd.DataFrame(data)\n",
    "\n",
    "daily_jams = jams.groupby('user_id').apply(fill_dates)"
   ]
  },
  {
   "cell_type": "markdown",
   "metadata": {},
   "source": [
    "We'll save a view of the jams joined with likes as `jams_with_likes`, and that grouped by `song_key` as `songs`."
   ]
  },
  {
   "cell_type": "code",
   "execution_count": 52,
   "metadata": {
    "collapsed": true
   },
   "outputs": [],
   "source": [
    "likes_per_jam = (likes\n",
    "                 .groupby('jam_id')['user_id']\n",
    "                 .count()\n",
    "                 .reset_index()\n",
    "                 .rename(columns={'user_id': 'num_likes'}))\n",
    "jams_with_likes = jams.merge(likes_per_jam, on='jam_id', how='left')\n",
    "jams_with_likes['num_likes'].fillna(0, inplace=True)"
   ]
  },
  {
   "cell_type": "code",
   "execution_count": 94,
   "metadata": {
    "collapsed": false
   },
   "outputs": [
    {
     "data": {
      "text/plain": [
       "700591"
      ]
     },
     "execution_count": 94,
     "metadata": {},
     "output_type": "execute_result"
    }
   ],
   "source": [
    "def get_songs(jams_with_likes):\n",
    "    return (jams_with_likes\n",
    "            .groupby('song_key')\n",
    "            .agg({'jam_id': 'count',\n",
    "                  'num_likes': 'sum',\n",
    "                  'artist': 'first',\n",
    "                  'title': 'first'})\n",
    "            .reset_index()\n",
    "            .rename(columns={'jam_id': 'num_jams'}))\n",
    "songs = get_songs(jams_with_likes)\n",
    "len(songs)"
   ]
  },
  {
   "cell_type": "markdown",
   "metadata": {},
   "source": [
    "![logo](https://www.thisismyjam.com/includes/image/archives_logo@2x.png?v=2.0) "
   ]
  },
  {
   "cell_type": "markdown",
   "metadata": {},
   "source": [
    "## Basic statistics"
   ]
  },
  {
   "cell_type": "markdown",
   "metadata": {},
   "source": [
    "First, a utility function to graph multiple lines with a logarithmic Y-axis."
   ]
  },
  {
   "cell_type": "code",
   "execution_count": 33,
   "metadata": {
    "collapsed": true
   },
   "outputs": [],
   "source": [
    "def log_graph(x, xlabel=None, ylabel=None):\n",
    "    plt.plot(x)\n",
    "    plt.yscale('log')\n",
    "    plt.axes().yaxis.set_major_formatter(ticker.FormatStrFormatter('%d'))\n",
    "    min_x = np.min(x)\n",
    "    max_x = np.max(x)\n",
    "    if min_x == 0:\n",
    "        min_x = 0.1\n",
    "    plt.ylim([min_x, max_x])\n",
    "    if xlabel:\n",
    "        plt.xlabel(xlabel)\n",
    "    if ylabel:\n",
    "        plt.ylabel(ylabel)"
   ]
  },
  {
   "cell_type": "markdown",
   "metadata": {},
   "source": [
    "### Jams per person"
   ]
  },
  {
   "cell_type": "code",
   "execution_count": 34,
   "metadata": {
    "collapsed": false,
    "scrolled": true
   },
   "outputs": [
    {
     "data": {
      "image/png": "[encoded data removed]",
      "text/plain": [
       "<matplotlib.figure.Figure at 0x14413d250>"
      ]
     },
     "metadata": {},
     "output_type": "display_data"
    }
   ],
   "source": [
    "log_graph(jams.groupby('user_id')['jam_id'].count().sort(ascending=False, inplace=False), xlabel='User index', ylabel='Number of jams')"
   ]
  },
  {
   "cell_type": "markdown",
   "metadata": {},
   "source": [
    "### Likes given per person"
   ]
  },
  {
   "cell_type": "code",
   "execution_count": 42,
   "metadata": {
    "collapsed": false
   },
   "outputs": [
    {
     "data": {
      "image/png": "[encoded data removed]",
      "text/plain": [
       "<matplotlib.figure.Figure at 0x16a191410>"
      ]
     },
     "metadata": {},
     "output_type": "display_data"
    }
   ],
   "source": [
    "log_graph(likes.groupby('user_id')['jam_id'].count().sort(ascending=False, inplace=False), xlabel='User index', ylabel='Number of likes given')"
   ]
  },
  {
   "cell_type": "markdown",
   "metadata": {},
   "source": [
    "### Likes per jam"
   ]
  },
  {
   "cell_type": "code",
   "execution_count": 43,
   "metadata": {
    "collapsed": false
   },
   "outputs": [
    {
     "data": {
      "image/png": "[encoded data removed]",
      "text/plain": [
       "<matplotlib.figure.Figure at 0x1346bfbd0>"
      ]
     },
     "metadata": {},
     "output_type": "display_data"
    }
   ],
   "source": [
    "log_graph(likes.groupby('jam_id')['user_id'].count().sort(ascending=False, inplace=False), xlabel='Jam index', ylabel='Number of likes')"
   ]
  },
  {
   "cell_type": "markdown",
   "metadata": {},
   "source": [
    "### Followers per user"
   ]
  },
  {
   "cell_type": "code",
   "execution_count": 44,
   "metadata": {
    "collapsed": false
   },
   "outputs": [
    {
     "data": {
      "text/plain": [
       "Index([u'num_followed', u'num_followers', u'user_id', u'ratio'], dtype='object')"
      ]
     },
     "execution_count": 44,
     "metadata": {},
     "output_type": "execute_result"
    }
   ],
   "source": [
    "follower_stats = (followers\n",
    "                  .groupby('follower_user_id')['followed_user_id']\n",
    "                  .count()\n",
    "                  .reset_index()\n",
    "                  .merge(followers\n",
    "                         .groupby('followed_user_id')['follower_user_id']\n",
    "                         .count()\n",
    "                         .reset_index(),\n",
    "                         left_on='follower_user_id', right_on='followed_user_id', how='outer'))\n",
    "follower_stats['user_id'] = follower_stats['follower_user_id_x']\n",
    "follower_stats.loc[follower_stats['user_id'].isnull(), 'user_id'] = follower_stats[follower_stats['user_id'].isnull()]['followed_user_id_y']\n",
    "follower_stats.drop(['follower_user_id_x', 'followed_user_id_y'], axis=1, inplace=True)\n",
    "follower_stats.rename(columns={'follower_user_id_y': 'num_followers', 'followed_user_id_x': 'num_followed'}, inplace=True)\n",
    "follower_stats.fillna(0, inplace=True)\n",
    "follower_stats['ratio'] = (follower_stats['num_followers'] + 1) / (follower_stats['num_followed'] + 1)\n",
    "follower_stats.columns"
   ]
  },
  {
   "cell_type": "code",
   "execution_count": 47,
   "metadata": {
    "collapsed": false
   },
   "outputs": [
    {
     "data": {
      "image/png": "[encoded data removed]",
      "text/plain": [
       "<matplotlib.figure.Figure at 0x1718e0250>"
      ]
     },
     "metadata": {},
     "output_type": "display_data"
    }
   ],
   "source": [
    "log_graph(follower_stats['num_followers'].sort(ascending=False, inplace=False), xlabel='User index', ylabel='Number of followers')"
   ]
  },
  {
   "cell_type": "markdown",
   "metadata": {},
   "source": [
    "### Number of users followed per user"
   ]
  },
  {
   "cell_type": "code",
   "execution_count": 49,
   "metadata": {
    "collapsed": false
   },
   "outputs": [
    {
     "data": {
      "image/png": "[encoded data removed]",
      "text/plain": [
       "<matplotlib.figure.Figure at 0x164246a50>"
      ]
     },
     "metadata": {},
     "output_type": "display_data"
    }
   ],
   "source": [
    "log_graph(follower_stats['num_followed'].sort(ascending=False, inplace=False), xlabel='User index', ylabel='Number of users followed')"
   ]
  },
  {
   "cell_type": "markdown",
   "metadata": {},
   "source": [
    "### Follower ratio"
   ]
  },
  {
   "cell_type": "code",
   "execution_count": 50,
   "metadata": {
    "collapsed": false
   },
   "outputs": [
    {
     "data": {
      "image/png": "[encoded data removed]",
      "text/plain": [
       "<matplotlib.figure.Figure at 0x166cfded0>"
      ]
     },
     "metadata": {},
     "output_type": "display_data"
    }
   ],
   "source": [
    "log_graph(follower_stats['ratio'].sort(ascending=False, inplace=False), xlabel='User index', ylabel='Followers / users followed ratio')"
   ]
  },
  {
   "cell_type": "markdown",
   "metadata": {},
   "source": [
    "![logo](https://www.thisismyjam.com/includes/image/archives_logo@2x.png?v=2.0) "
   ]
  },
  {
   "cell_type": "markdown",
   "metadata": {},
   "source": [
    "## Top jams and artists"
   ]
  },
  {
   "cell_type": "markdown",
   "metadata": {},
   "source": [
    "We'll compare jams to YouTube plays and Billboard chart positions, so we'll merge songs, youtube, and billboard into one `merged_songs` variable."
   ]
  },
  {
   "cell_type": "code",
   "execution_count": 62,
   "metadata": {
    "collapsed": false
   },
   "outputs": [
    {
     "data": {
      "text/plain": [
       "Index([u'song_key', u'title', u'num_likes', u'num_jams', u'artist',\n",
       "       u'billboard_top_position', u'youtube_plays'],\n",
       "      dtype='object')"
      ]
     },
     "execution_count": 62,
     "metadata": {},
     "output_type": "execute_result"
    }
   ],
   "source": [
    "merged_songs = (songs\n",
    "                .merge(billboard_top_positions, on='song_key', how='left')\n",
    "                .merge(youtube, on='song_key', how='left'))\n",
    "merged_songs.columns"
   ]
  },
  {
   "cell_type": "markdown",
   "metadata": {},
   "source": [
    "### Most posted jams"
   ]
  },
  {
   "cell_type": "code",
   "execution_count": 89,
   "metadata": {
    "collapsed": false
   },
   "outputs": [
    {
     "data": {
      "text/html": [
       "<div>\n",
       "<table border=\"1\" class=\"dataframe\">\n",
       "  <thead>\n",
       "    <tr style=\"text-align: right;\">\n",
       "      <th></th>\n",
       "      <th>artist</th>\n",
       "      <th>title</th>\n",
       "      <th>num_jams</th>\n",
       "      <th>num_likes</th>\n",
       "      <th>billboard_top_position</th>\n",
       "      <th>youtube_plays</th>\n",
       "    </tr>\n",
       "  </thead>\n",
       "  <tbody>\n",
       "    <tr>\n",
       "      <th>0</th>\n",
       "      <td>alt-j</td>\n",
       "      <td>Breezeblocks</td>\n",
       "      <td>1070</td>\n",
       "      <td>1277</td>\n",
       "      <td>NaN</td>\n",
       "      <td>70737601</td>\n",
       "    </tr>\n",
       "    <tr>\n",
       "      <th>1</th>\n",
       "      <td>Of Monsters And Men</td>\n",
       "      <td>Little Talks</td>\n",
       "      <td>998</td>\n",
       "      <td>967</td>\n",
       "      <td>20 (2013-02-16)</td>\n",
       "      <td>158730595</td>\n",
       "    </tr>\n",
       "    <tr>\n",
       "      <th>2</th>\n",
       "      <td>Arctic Monkeys</td>\n",
       "      <td>Do I Wanna Know?</td>\n",
       "      <td>874</td>\n",
       "      <td>2771</td>\n",
       "      <td>70 (2014-03-22)</td>\n",
       "      <td>217387511</td>\n",
       "    </tr>\n",
       "    <tr>\n",
       "      <th>3</th>\n",
       "      <td>Grimes</td>\n",
       "      <td>Oblivion</td>\n",
       "      <td>872</td>\n",
       "      <td>1507</td>\n",
       "      <td>NaN</td>\n",
       "      <td>18441827</td>\n",
       "    </tr>\n",
       "    <tr>\n",
       "      <th>4</th>\n",
       "      <td>Lorde</td>\n",
       "      <td>Royals</td>\n",
       "      <td>818</td>\n",
       "      <td>1033</td>\n",
       "      <td>1 (2013-12-07)</td>\n",
       "      <td>513468680</td>\n",
       "    </tr>\n",
       "    <tr>\n",
       "      <th>5</th>\n",
       "      <td>The Lumineers</td>\n",
       "      <td>Ho Hey</td>\n",
       "      <td>786</td>\n",
       "      <td>741</td>\n",
       "      <td>3 (2013-02-09)</td>\n",
       "      <td>134697041</td>\n",
       "    </tr>\n",
       "    <tr>\n",
       "      <th>6</th>\n",
       "      <td>Chvrches</td>\n",
       "      <td>The Mother We Share</td>\n",
       "      <td>769</td>\n",
       "      <td>1115</td>\n",
       "      <td>NaN</td>\n",
       "      <td>11418762</td>\n",
       "    </tr>\n",
       "    <tr>\n",
       "      <th>7</th>\n",
       "      <td>Gotye</td>\n",
       "      <td>Somebody That I Used To Know</td>\n",
       "      <td>763</td>\n",
       "      <td>593</td>\n",
       "      <td>1 (2012-06-16)</td>\n",
       "      <td>685106679</td>\n",
       "    </tr>\n",
       "    <tr>\n",
       "      <th>8</th>\n",
       "      <td>Alabama Shakes</td>\n",
       "      <td>Hold On</td>\n",
       "      <td>712</td>\n",
       "      <td>748</td>\n",
       "      <td>93 (2013-03-09)</td>\n",
       "      <td>14149362</td>\n",
       "    </tr>\n",
       "    <tr>\n",
       "      <th>9</th>\n",
       "      <td>M83</td>\n",
       "      <td>Midnight City</td>\n",
       "      <td>706</td>\n",
       "      <td>1028</td>\n",
       "      <td>72 (2012-04-28)</td>\n",
       "      <td>65395649</td>\n",
       "    </tr>\n",
       "    <tr>\n",
       "      <th>10</th>\n",
       "      <td>Imagine Dragons</td>\n",
       "      <td>Radioactive</td>\n",
       "      <td>676</td>\n",
       "      <td>665</td>\n",
       "      <td>3 (2013-08-24)</td>\n",
       "      <td>395443387</td>\n",
       "    </tr>\n",
       "    <tr>\n",
       "      <th>11</th>\n",
       "      <td>Django Django</td>\n",
       "      <td>Default</td>\n",
       "      <td>675</td>\n",
       "      <td>831</td>\n",
       "      <td>NaN</td>\n",
       "      <td>3871704</td>\n",
       "    </tr>\n",
       "    <tr>\n",
       "      <th>12</th>\n",
       "      <td>James Blake</td>\n",
       "      <td>Retrograde</td>\n",
       "      <td>670</td>\n",
       "      <td>1105</td>\n",
       "      <td>NaN</td>\n",
       "      <td>12049339</td>\n",
       "    </tr>\n",
       "    <tr>\n",
       "      <th>13</th>\n",
       "      <td>Grimes</td>\n",
       "      <td>Genesis</td>\n",
       "      <td>656</td>\n",
       "      <td>944</td>\n",
       "      <td>NaN</td>\n",
       "      <td>30713998</td>\n",
       "    </tr>\n",
       "    <tr>\n",
       "      <th>14</th>\n",
       "      <td>Tame Impala</td>\n",
       "      <td>Elephant</td>\n",
       "      <td>644</td>\n",
       "      <td>2061</td>\n",
       "      <td>NaN</td>\n",
       "      <td>9286576</td>\n",
       "    </tr>\n",
       "    <tr>\n",
       "      <th>15</th>\n",
       "      <td>The Black Keys</td>\n",
       "      <td>Lonely Boy</td>\n",
       "      <td>627</td>\n",
       "      <td>1462</td>\n",
       "      <td>64 (2011-12-24)</td>\n",
       "      <td>48148093</td>\n",
       "    </tr>\n",
       "    <tr>\n",
       "      <th>16</th>\n",
       "      <td>Beach House</td>\n",
       "      <td>Myth</td>\n",
       "      <td>620</td>\n",
       "      <td>1364</td>\n",
       "      <td>NaN</td>\n",
       "      <td>4040163</td>\n",
       "    </tr>\n",
       "    <tr>\n",
       "      <th>17</th>\n",
       "      <td>Kavinsky</td>\n",
       "      <td>Nightcall</td>\n",
       "      <td>618</td>\n",
       "      <td>749</td>\n",
       "      <td>NaN</td>\n",
       "      <td>62550781</td>\n",
       "    </tr>\n",
       "    <tr>\n",
       "      <th>18</th>\n",
       "      <td>Tame Impala</td>\n",
       "      <td>Feels Like We Only Go Backwards</td>\n",
       "      <td>617</td>\n",
       "      <td>2058</td>\n",
       "      <td>NaN</td>\n",
       "      <td>23388025</td>\n",
       "    </tr>\n",
       "    <tr>\n",
       "      <th>19</th>\n",
       "      <td>Daft Punk</td>\n",
       "      <td>Get Lucky</td>\n",
       "      <td>613</td>\n",
       "      <td>942</td>\n",
       "      <td>2 (2013-07-27)</td>\n",
       "      <td>117348136</td>\n",
       "    </tr>\n",
       "    <tr>\n",
       "      <th>20</th>\n",
       "      <td>Santigold</td>\n",
       "      <td>Disparate YouthÂ</td>\n",
       "      <td>565</td>\n",
       "      <td>600</td>\n",
       "      <td>NaN</td>\n",
       "      <td>NaN</td>\n",
       "    </tr>\n",
       "    <tr>\n",
       "      <th>21</th>\n",
       "      <td>Macklemore &amp; Ryan Lewis</td>\n",
       "      <td>Thrift Shop (feat. Wanz)</td>\n",
       "      <td>557</td>\n",
       "      <td>282</td>\n",
       "      <td>NaN</td>\n",
       "      <td>25383720</td>\n",
       "    </tr>\n",
       "    <tr>\n",
       "      <th>22</th>\n",
       "      <td>Edward Sharpe &amp; The Magnetic Zeros</td>\n",
       "      <td>Home</td>\n",
       "      <td>552</td>\n",
       "      <td>1347</td>\n",
       "      <td>NaN</td>\n",
       "      <td>1251854</td>\n",
       "    </tr>\n",
       "    <tr>\n",
       "      <th>23</th>\n",
       "      <td>Awolnation</td>\n",
       "      <td>Sail</td>\n",
       "      <td>539</td>\n",
       "      <td>661</td>\n",
       "      <td>17 (2013-10-12)</td>\n",
       "      <td>19300308</td>\n",
       "    </tr>\n",
       "    <tr>\n",
       "      <th>24</th>\n",
       "      <td>Icona Pop</td>\n",
       "      <td>I Love It</td>\n",
       "      <td>534</td>\n",
       "      <td>503</td>\n",
       "      <td>7 (2013-06-08)</td>\n",
       "      <td>97033299</td>\n",
       "    </tr>\n",
       "  </tbody>\n",
       "</table>\n",
       "</div>"
      ],
      "text/plain": [
       "                                artist                            title  \\\n",
       "0                                alt-j                     Breezeblocks   \n",
       "1                  Of Monsters And Men                     Little Talks   \n",
       "2                       Arctic Monkeys                 Do I Wanna Know?   \n",
       "3                               Grimes                         Oblivion   \n",
       "4                                Lorde                           Royals   \n",
       "5                        The Lumineers                           Ho Hey   \n",
       "6                             Chvrches              The Mother We Share   \n",
       "7                                Gotye     Somebody That I Used To Know   \n",
       "8                       Alabama Shakes                          Hold On   \n",
       "9                                  M83                    Midnight City   \n",
       "10                     Imagine Dragons                      Radioactive   \n",
       "11                       Django Django                          Default   \n",
       "12                         James Blake                       Retrograde   \n",
       "13                              Grimes                          Genesis   \n",
       "14                         Tame Impala                         Elephant   \n",
       "15                      The Black Keys                       Lonely Boy   \n",
       "16                         Beach House                             Myth   \n",
       "17                            Kavinsky                        Nightcall   \n",
       "18                         Tame Impala  Feels Like We Only Go Backwards   \n",
       "19                           Daft Punk                        Get Lucky   \n",
       "20                           Santigold                Disparate YouthÂ    \n",
       "21             Macklemore & Ryan Lewis         Thrift Shop (feat. Wanz)   \n",
       "22  Edward Sharpe & The Magnetic Zeros                             Home   \n",
       "23                          Awolnation                             Sail   \n",
       "24                           Icona Pop                        I Love It   \n",
       "\n",
       "    num_jams  num_likes billboard_top_position  youtube_plays  \n",
       "0       1070       1277                    NaN       70737601  \n",
       "1        998        967        20 (2013-02-16)      158730595  \n",
       "2        874       2771        70 (2014-03-22)      217387511  \n",
       "3        872       1507                    NaN       18441827  \n",
       "4        818       1033         1 (2013-12-07)      513468680  \n",
       "5        786        741         3 (2013-02-09)      134697041  \n",
       "6        769       1115                    NaN       11418762  \n",
       "7        763        593         1 (2012-06-16)      685106679  \n",
       "8        712        748        93 (2013-03-09)       14149362  \n",
       "9        706       1028        72 (2012-04-28)       65395649  \n",
       "10       676        665         3 (2013-08-24)      395443387  \n",
       "11       675        831                    NaN        3871704  \n",
       "12       670       1105                    NaN       12049339  \n",
       "13       656        944                    NaN       30713998  \n",
       "14       644       2061                    NaN        9286576  \n",
       "15       627       1462        64 (2011-12-24)       48148093  \n",
       "16       620       1364                    NaN        4040163  \n",
       "17       618        749                    NaN       62550781  \n",
       "18       617       2058                    NaN       23388025  \n",
       "19       613        942         2 (2013-07-27)      117348136  \n",
       "20       565        600                    NaN            NaN  \n",
       "21       557        282                    NaN       25383720  \n",
       "22       552       1347                    NaN        1251854  \n",
       "23       539        661        17 (2013-10-12)       19300308  \n",
       "24       534        503         7 (2013-06-08)       97033299  "
      ]
     },
     "execution_count": 89,
     "metadata": {},
     "output_type": "execute_result"
    }
   ],
   "source": [
    "merged_songs.sort('num_jams', ascending=False, inplace=False)[:25].reset_index()[['artist', 'title', 'num_jams', 'num_likes', 'billboard_top_position', 'youtube_plays']]"
   ]
  },
  {
   "cell_type": "markdown",
   "metadata": {},
   "source": [
    "### Most liked jams"
   ]
  },
  {
   "cell_type": "markdown",
   "metadata": {},
   "source": [
    "The most liked jams are pretty different to the most posted jams. It appears that users posted modern tracks but liked the \"classics\"."
   ]
  },
  {
   "cell_type": "code",
   "execution_count": 87,
   "metadata": {
    "collapsed": false
   },
   "outputs": [
    {
     "data": {
      "text/html": [
       "<div>\n",
       "<table border=\"1\" class=\"dataframe\">\n",
       "  <thead>\n",
       "    <tr style=\"text-align: right;\">\n",
       "      <th></th>\n",
       "      <th>artist</th>\n",
       "      <th>title</th>\n",
       "      <th>num_jams</th>\n",
       "      <th>num_likes</th>\n",
       "      <th>billboard_top_position</th>\n",
       "      <th>youtube_plays</th>\n",
       "    </tr>\n",
       "  </thead>\n",
       "  <tbody>\n",
       "    <tr>\n",
       "      <th>0</th>\n",
       "      <td>Arctic Monkeys</td>\n",
       "      <td>Do I Wanna Know?</td>\n",
       "      <td>874</td>\n",
       "      <td>2771</td>\n",
       "      <td>70 (2014-03-22)</td>\n",
       "      <td>217387511</td>\n",
       "    </tr>\n",
       "    <tr>\n",
       "      <th>1</th>\n",
       "      <td>Joy Division</td>\n",
       "      <td>Love Will Tear Us Apart</td>\n",
       "      <td>301</td>\n",
       "      <td>2651</td>\n",
       "      <td>NaN</td>\n",
       "      <td>9175639</td>\n",
       "    </tr>\n",
       "    <tr>\n",
       "      <th>2</th>\n",
       "      <td>The Rolling Stones</td>\n",
       "      <td>Gimme Shelter</td>\n",
       "      <td>315</td>\n",
       "      <td>2619</td>\n",
       "      <td>NaN</td>\n",
       "      <td>16388778</td>\n",
       "    </tr>\n",
       "    <tr>\n",
       "      <th>3</th>\n",
       "      <td>David Bowie</td>\n",
       "      <td>Heroes</td>\n",
       "      <td>436</td>\n",
       "      <td>2615</td>\n",
       "      <td>NaN</td>\n",
       "      <td>4432253</td>\n",
       "    </tr>\n",
       "    <tr>\n",
       "      <th>4</th>\n",
       "      <td>Pixies</td>\n",
       "      <td>Where Is My Mind?</td>\n",
       "      <td>487</td>\n",
       "      <td>2587</td>\n",
       "      <td>NaN</td>\n",
       "      <td>2142955</td>\n",
       "    </tr>\n",
       "    <tr>\n",
       "      <th>5</th>\n",
       "      <td>The Clash</td>\n",
       "      <td>London Calling</td>\n",
       "      <td>243</td>\n",
       "      <td>2313</td>\n",
       "      <td>NaN</td>\n",
       "      <td>12759845</td>\n",
       "    </tr>\n",
       "    <tr>\n",
       "      <th>6</th>\n",
       "      <td>The Who</td>\n",
       "      <td>Baba O'Riley</td>\n",
       "      <td>235</td>\n",
       "      <td>2209</td>\n",
       "      <td>NaN</td>\n",
       "      <td>16928020</td>\n",
       "    </tr>\n",
       "    <tr>\n",
       "      <th>7</th>\n",
       "      <td>David Bowie</td>\n",
       "      <td>Life On Mars</td>\n",
       "      <td>366</td>\n",
       "      <td>2120</td>\n",
       "      <td>NaN</td>\n",
       "      <td>17002246</td>\n",
       "    </tr>\n",
       "    <tr>\n",
       "      <th>8</th>\n",
       "      <td>Tame Impala</td>\n",
       "      <td>Elephant</td>\n",
       "      <td>644</td>\n",
       "      <td>2061</td>\n",
       "      <td>NaN</td>\n",
       "      <td>9286576</td>\n",
       "    </tr>\n",
       "    <tr>\n",
       "      <th>9</th>\n",
       "      <td>Tame Impala</td>\n",
       "      <td>Feels Like We Only Go Backwards</td>\n",
       "      <td>617</td>\n",
       "      <td>2058</td>\n",
       "      <td>NaN</td>\n",
       "      <td>23388025</td>\n",
       "    </tr>\n",
       "    <tr>\n",
       "      <th>10</th>\n",
       "      <td>The Smiths</td>\n",
       "      <td>There Is A Light That Never Goes Out</td>\n",
       "      <td>339</td>\n",
       "      <td>2045</td>\n",
       "      <td>NaN</td>\n",
       "      <td>13668380</td>\n",
       "    </tr>\n",
       "    <tr>\n",
       "      <th>11</th>\n",
       "      <td>The Velvet Underground</td>\n",
       "      <td>Pale Blue Eyes</td>\n",
       "      <td>245</td>\n",
       "      <td>1969</td>\n",
       "      <td>NaN</td>\n",
       "      <td>502923</td>\n",
       "    </tr>\n",
       "    <tr>\n",
       "      <th>12</th>\n",
       "      <td>Talking Heads</td>\n",
       "      <td>This Must Be the Place (Naive Melody)</td>\n",
       "      <td>453</td>\n",
       "      <td>1888</td>\n",
       "      <td>NaN</td>\n",
       "      <td>571450</td>\n",
       "    </tr>\n",
       "    <tr>\n",
       "      <th>13</th>\n",
       "      <td>Talking Heads</td>\n",
       "      <td>Psycho Killer</td>\n",
       "      <td>268</td>\n",
       "      <td>1880</td>\n",
       "      <td>NaN</td>\n",
       "      <td>3698382</td>\n",
       "    </tr>\n",
       "    <tr>\n",
       "      <th>14</th>\n",
       "      <td>The Smiths</td>\n",
       "      <td>How Soon Is Now?</td>\n",
       "      <td>275</td>\n",
       "      <td>1862</td>\n",
       "      <td>NaN</td>\n",
       "      <td>6770745</td>\n",
       "    </tr>\n",
       "    <tr>\n",
       "      <th>15</th>\n",
       "      <td>Johnny Cash</td>\n",
       "      <td>Hurt</td>\n",
       "      <td>436</td>\n",
       "      <td>1840</td>\n",
       "      <td>NaN</td>\n",
       "      <td>10117859</td>\n",
       "    </tr>\n",
       "    <tr>\n",
       "      <th>16</th>\n",
       "      <td>Bob Dylan</td>\n",
       "      <td>Like A Rolling Stone</td>\n",
       "      <td>161</td>\n",
       "      <td>1790</td>\n",
       "      <td>2 (1965-09-11)</td>\n",
       "      <td>1289000</td>\n",
       "    </tr>\n",
       "    <tr>\n",
       "      <th>17</th>\n",
       "      <td>Sam Cooke</td>\n",
       "      <td>A Change Is Gonna Come</td>\n",
       "      <td>214</td>\n",
       "      <td>1721</td>\n",
       "      <td>31 (1965-03-06)</td>\n",
       "      <td>12941858</td>\n",
       "    </tr>\n",
       "    <tr>\n",
       "      <th>18</th>\n",
       "      <td>Pink Floyd</td>\n",
       "      <td>Wish You Were Here</td>\n",
       "      <td>334</td>\n",
       "      <td>1695</td>\n",
       "      <td>NaN</td>\n",
       "      <td>66034514</td>\n",
       "    </tr>\n",
       "    <tr>\n",
       "      <th>19</th>\n",
       "      <td>Led Zeppelin</td>\n",
       "      <td>When The Levee Breaks</td>\n",
       "      <td>209</td>\n",
       "      <td>1657</td>\n",
       "      <td>NaN</td>\n",
       "      <td>5824601</td>\n",
       "    </tr>\n",
       "    <tr>\n",
       "      <th>20</th>\n",
       "      <td>The Velvet Underground</td>\n",
       "      <td>Venus In Furs</td>\n",
       "      <td>169</td>\n",
       "      <td>1655</td>\n",
       "      <td>NaN</td>\n",
       "      <td>860405</td>\n",
       "    </tr>\n",
       "    <tr>\n",
       "      <th>21</th>\n",
       "      <td>Talking Heads</td>\n",
       "      <td>Once in a lifetime</td>\n",
       "      <td>322</td>\n",
       "      <td>1643</td>\n",
       "      <td>91 (1986-05-03)</td>\n",
       "      <td>899204</td>\n",
       "    </tr>\n",
       "    <tr>\n",
       "      <th>22</th>\n",
       "      <td>The Rolling Stones</td>\n",
       "      <td>Paint It Black</td>\n",
       "      <td>195</td>\n",
       "      <td>1631</td>\n",
       "      <td>NaN</td>\n",
       "      <td>14271057</td>\n",
       "    </tr>\n",
       "    <tr>\n",
       "      <th>23</th>\n",
       "      <td>Joy Division</td>\n",
       "      <td>Atmosphere</td>\n",
       "      <td>160</td>\n",
       "      <td>1579</td>\n",
       "      <td>NaN</td>\n",
       "      <td>1545521</td>\n",
       "    </tr>\n",
       "    <tr>\n",
       "      <th>24</th>\n",
       "      <td>Bobby Womack</td>\n",
       "      <td>Across 110th Street</td>\n",
       "      <td>256</td>\n",
       "      <td>1576</td>\n",
       "      <td>NaN</td>\n",
       "      <td>2980545</td>\n",
       "    </tr>\n",
       "  </tbody>\n",
       "</table>\n",
       "</div>"
      ],
      "text/plain": [
       "                    artist                                  title  num_jams  \\\n",
       "0           Arctic Monkeys                       Do I Wanna Know?       874   \n",
       "1             Joy Division                Love Will Tear Us Apart       301   \n",
       "2       The Rolling Stones                          Gimme Shelter       315   \n",
       "3              David Bowie                                 Heroes       436   \n",
       "4                   Pixies                      Where Is My Mind?       487   \n",
       "5                The Clash                         London Calling       243   \n",
       "6                  The Who                           Baba O'Riley       235   \n",
       "7              David Bowie                           Life On Mars       366   \n",
       "8              Tame Impala                               Elephant       644   \n",
       "9              Tame Impala        Feels Like We Only Go Backwards       617   \n",
       "10              The Smiths   There Is A Light That Never Goes Out       339   \n",
       "11  The Velvet Underground                         Pale Blue Eyes       245   \n",
       "12           Talking Heads  This Must Be the Place (Naive Melody)       453   \n",
       "13           Talking Heads                          Psycho Killer       268   \n",
       "14              The Smiths                       How Soon Is Now?       275   \n",
       "15             Johnny Cash                                   Hurt       436   \n",
       "16               Bob Dylan                   Like A Rolling Stone       161   \n",
       "17               Sam Cooke                 A Change Is Gonna Come       214   \n",
       "18              Pink Floyd                     Wish You Were Here       334   \n",
       "19            Led Zeppelin                  When The Levee Breaks       209   \n",
       "20  The Velvet Underground                          Venus In Furs       169   \n",
       "21           Talking Heads                     Once in a lifetime       322   \n",
       "22      The Rolling Stones                         Paint It Black       195   \n",
       "23            Joy Division                             Atmosphere       160   \n",
       "24            Bobby Womack                    Across 110th Street       256   \n",
       "\n",
       "    num_likes billboard_top_position  youtube_plays  \n",
       "0        2771        70 (2014-03-22)      217387511  \n",
       "1        2651                    NaN        9175639  \n",
       "2        2619                    NaN       16388778  \n",
       "3        2615                    NaN        4432253  \n",
       "4        2587                    NaN        2142955  \n",
       "5        2313                    NaN       12759845  \n",
       "6        2209                    NaN       16928020  \n",
       "7        2120                    NaN       17002246  \n",
       "8        2061                    NaN        9286576  \n",
       "9        2058                    NaN       23388025  \n",
       "10       2045                    NaN       13668380  \n",
       "11       1969                    NaN         502923  \n",
       "12       1888                    NaN         571450  \n",
       "13       1880                    NaN        3698382  \n",
       "14       1862                    NaN        6770745  \n",
       "15       1840                    NaN       10117859  \n",
       "16       1790         2 (1965-09-11)        1289000  \n",
       "17       1721        31 (1965-03-06)       12941858  \n",
       "18       1695                    NaN       66034514  \n",
       "19       1657                    NaN        5824601  \n",
       "20       1655                    NaN         860405  \n",
       "21       1643        91 (1986-05-03)         899204  \n",
       "22       1631                    NaN       14271057  \n",
       "23       1579                    NaN        1545521  \n",
       "24       1576                    NaN        2980545  "
      ]
     },
     "execution_count": 87,
     "metadata": {},
     "output_type": "execute_result"
    }
   ],
   "source": [
    "merged_songs.sort('num_likes', ascending=False, inplace=False)[:25].reset_index()[['artist', 'title', 'num_jams', 'num_likes', 'billboard_top_position', 'youtube_plays']]"
   ]
  },
  {
   "cell_type": "markdown",
   "metadata": {},
   "source": [
    "### Most jammed artists"
   ]
  },
  {
   "cell_type": "code",
   "execution_count": 90,
   "metadata": {
    "collapsed": false
   },
   "outputs": [
    {
     "data": {
      "text/html": [
       "<div>\n",
       "<table border=\"1\" class=\"dataframe\">\n",
       "  <thead>\n",
       "    <tr style=\"text-align: right;\">\n",
       "      <th></th>\n",
       "      <th>artist</th>\n",
       "      <th>num_jams</th>\n",
       "    </tr>\n",
       "  </thead>\n",
       "  <tbody>\n",
       "    <tr>\n",
       "      <th>0</th>\n",
       "      <td>David Bowie</td>\n",
       "      <td>8143</td>\n",
       "    </tr>\n",
       "    <tr>\n",
       "      <th>1</th>\n",
       "      <td>The Beatles</td>\n",
       "      <td>6648</td>\n",
       "    </tr>\n",
       "    <tr>\n",
       "      <th>2</th>\n",
       "      <td>Radiohead</td>\n",
       "      <td>6058</td>\n",
       "    </tr>\n",
       "    <tr>\n",
       "      <th>3</th>\n",
       "      <td>Daft Punk</td>\n",
       "      <td>4928</td>\n",
       "    </tr>\n",
       "    <tr>\n",
       "      <th>4</th>\n",
       "      <td>Arctic Monkeys</td>\n",
       "      <td>4614</td>\n",
       "    </tr>\n",
       "    <tr>\n",
       "      <th>5</th>\n",
       "      <td>The Rolling Stones</td>\n",
       "      <td>4331</td>\n",
       "    </tr>\n",
       "    <tr>\n",
       "      <th>6</th>\n",
       "      <td>The National</td>\n",
       "      <td>4213</td>\n",
       "    </tr>\n",
       "    <tr>\n",
       "      <th>7</th>\n",
       "      <td>Lana Del Rey</td>\n",
       "      <td>3965</td>\n",
       "    </tr>\n",
       "    <tr>\n",
       "      <th>8</th>\n",
       "      <td>The Black Keys</td>\n",
       "      <td>3927</td>\n",
       "    </tr>\n",
       "    <tr>\n",
       "      <th>9</th>\n",
       "      <td>Led Zeppelin</td>\n",
       "      <td>3876</td>\n",
       "    </tr>\n",
       "    <tr>\n",
       "      <th>10</th>\n",
       "      <td>Bob Dylan</td>\n",
       "      <td>3744</td>\n",
       "    </tr>\n",
       "    <tr>\n",
       "      <th>11</th>\n",
       "      <td>The Smiths</td>\n",
       "      <td>3687</td>\n",
       "    </tr>\n",
       "    <tr>\n",
       "      <th>12</th>\n",
       "      <td>Pink Floyd</td>\n",
       "      <td>3587</td>\n",
       "    </tr>\n",
       "    <tr>\n",
       "      <th>13</th>\n",
       "      <td>Arcade Fire</td>\n",
       "      <td>3427</td>\n",
       "    </tr>\n",
       "    <tr>\n",
       "      <th>14</th>\n",
       "      <td>Talking Heads</td>\n",
       "      <td>3397</td>\n",
       "    </tr>\n",
       "    <tr>\n",
       "      <th>15</th>\n",
       "      <td>Beastie Boys</td>\n",
       "      <td>3320</td>\n",
       "    </tr>\n",
       "    <tr>\n",
       "      <th>16</th>\n",
       "      <td>Tame Impala</td>\n",
       "      <td>3288</td>\n",
       "    </tr>\n",
       "    <tr>\n",
       "      <th>17</th>\n",
       "      <td>The Cure</td>\n",
       "      <td>3235</td>\n",
       "    </tr>\n",
       "    <tr>\n",
       "      <th>18</th>\n",
       "      <td>Pixies</td>\n",
       "      <td>3071</td>\n",
       "    </tr>\n",
       "    <tr>\n",
       "      <th>19</th>\n",
       "      <td>Tom Waits</td>\n",
       "      <td>3071</td>\n",
       "    </tr>\n",
       "    <tr>\n",
       "      <th>20</th>\n",
       "      <td>CHVRCHES</td>\n",
       "      <td>2985</td>\n",
       "    </tr>\n",
       "    <tr>\n",
       "      <th>21</th>\n",
       "      <td>Queen</td>\n",
       "      <td>2985</td>\n",
       "    </tr>\n",
       "    <tr>\n",
       "      <th>22</th>\n",
       "      <td>Beck</td>\n",
       "      <td>2879</td>\n",
       "    </tr>\n",
       "    <tr>\n",
       "      <th>23</th>\n",
       "      <td>Muse</td>\n",
       "      <td>2853</td>\n",
       "    </tr>\n",
       "    <tr>\n",
       "      <th>24</th>\n",
       "      <td>Bruce Springsteen</td>\n",
       "      <td>2823</td>\n",
       "    </tr>\n",
       "  </tbody>\n",
       "</table>\n",
       "</div>"
      ],
      "text/plain": [
       "                artist  num_jams\n",
       "0          David Bowie      8143\n",
       "1          The Beatles      6648\n",
       "2            Radiohead      6058\n",
       "3            Daft Punk      4928\n",
       "4       Arctic Monkeys      4614\n",
       "5   The Rolling Stones      4331\n",
       "6         The National      4213\n",
       "7         Lana Del Rey      3965\n",
       "8       The Black Keys      3927\n",
       "9         Led Zeppelin      3876\n",
       "10           Bob Dylan      3744\n",
       "11          The Smiths      3687\n",
       "12          Pink Floyd      3587\n",
       "13         Arcade Fire      3427\n",
       "14       Talking Heads      3397\n",
       "15        Beastie Boys      3320\n",
       "16         Tame Impala      3288\n",
       "17            The Cure      3235\n",
       "18              Pixies      3071\n",
       "19           Tom Waits      3071\n",
       "20            CHVRCHES      2985\n",
       "21               Queen      2985\n",
       "22                Beck      2879\n",
       "23                Muse      2853\n",
       "24   Bruce Springsteen      2823"
      ]
     },
     "execution_count": 90,
     "metadata": {},
     "output_type": "execute_result"
    }
   ],
   "source": [
    "jams.groupby('artist')['jam_id'].count().sort(ascending=False, inplace=False).reset_index()[:25].rename(columns={'jam_id': 'num_jams'})"
   ]
  },
  {
   "cell_type": "markdown",
   "metadata": {},
   "source": [
    "![logo](https://www.thisismyjam.com/includes/image/archives_logo@2x.png?v=2.0) "
   ]
  },
  {
   "cell_type": "markdown",
   "metadata": {},
   "source": [
    "## Jams over time"
   ]
  },
  {
   "cell_type": "markdown",
   "metadata": {},
   "source": [
    "As a user of This Is My Jam, one often got the sense that songs became popular on the site before they became popular with the general public. To try to quantify this we look at the number of active jams compared to Billboard position."
   ]
  },
  {
   "cell_type": "markdown",
   "metadata": {},
   "source": [
    "First, let's look at [Pharrell William's \"Happy\"](https://www.youtube.com/watch?v=y6Sxv-sUYtM)."
   ]
  },
  {
   "cell_type": "code",
   "execution_count": 113,
   "metadata": {
    "collapsed": true
   },
   "outputs": [],
   "source": [
    "def compare_jam_billboard(daily_jams, billboard, song_keys):\n",
    "    j = daily_jams[daily_jams['song_key'].isin(song_keys)].groupby('creation_date')['jam_id'].count()\n",
    "    b = billboard[billboard['song_key'].isin(song_keys)]\n",
    "    b.index = b.date\n",
    "    b = b['position']\n",
    "\n",
    "    min_date = min(j.index.min(), b.index.min())\n",
    "    max_date = max(j.index.max(), b.index.max())\n",
    "    xlim = [min_date, max_date]\n",
    "    date_range = pd.date_range(min_date, max_date)\n",
    "\n",
    "    j = j.reindex(date_range, fill_value=0)\n",
    "\n",
    "    fig, ax1 = plt.subplots()\n",
    "    plt.xticks(rotation=30)\n",
    "\n",
    "    ax1.invert_yaxis()\n",
    "    line1 = ax1.plot(b.index, b.values, label='Billboard', color='blue')\n",
    "    ax1.set_ylabel('Billboard position')\n",
    "\n",
    "    ax2 = ax1.twinx()\n",
    "    line2 = ax2.plot(j.index, j.values, label='TIMJ', color='red')\n",
    "    ax2.set_ylabel('Number of active jams')\n",
    "\n",
    "    lines1, labels1 = ax1.get_legend_handles_labels()\n",
    "    lines2, labels2 = ax2.get_legend_handles_labels()\n",
    "    ax2.legend(lines1 + lines2, labels1 + labels2, loc=0)"
   ]
  },
  {
   "cell_type": "code",
   "execution_count": 114,
   "metadata": {
    "collapsed": false
   },
   "outputs": [
    {
     "data": {
      "image/png": "[encoded data removed]",
      "text/plain": [
       "<matplotlib.figure.Figure at 0x119c064d0>"
      ]
     },
     "metadata": {},
     "output_type": "display_data"
    }
   ],
   "source": [
    "compare_jam_billboard(daily_jams, billboard, ['pharrellhappy', 'pharrellwilliamshappy'])"
   ]
  },
  {
   "cell_type": "markdown",
   "metadata": {},
   "source": [
    "Next, we can look at [\"Shake It Off\" by Taylor Swift](https://www.youtube.com/watch?v=nfWlot6h_JM) and see similar results. We also see that tracks stay popular on Billboard longer than on This Is My Jam, where interest fades fairly quickly."
   ]
  },
  {
   "cell_type": "code",
   "execution_count": 115,
   "metadata": {
    "collapsed": false
   },
   "outputs": [
    {
     "data": {
      "image/png": "[encoded data removed]",
      "text/plain": [
       "<matplotlib.figure.Figure at 0x1728415d0>"
      ]
     },
     "metadata": {},
     "output_type": "display_data"
    }
   ],
   "source": [
    "compare_jam_billboard(daily_jams, billboard, ['taylorswiftshakeitoff'])"
   ]
  },
  {
   "cell_type": "markdown",
   "metadata": {},
   "source": [
    "![logo](https://www.thisismyjam.com/includes/image/archives_logo@2x.png?v=2.0) "
   ]
  },
  {
   "cell_type": "markdown",
   "metadata": {},
   "source": [
    "## Indie vs. Mainstream"
   ]
  },
  {
   "cell_type": "markdown",
   "metadata": {},
   "source": [
    "We can define the mainstreamness of a user as the per-jam average number of users who posted the same song."
   ]
  },
  {
   "cell_type": "code",
   "execution_count": 91,
   "metadata": {
    "collapsed": true
   },
   "outputs": [],
   "source": [
    "songs_by_user = jams.merge(songs, on='song_key').groupby('user_id')\n",
    "user_mainstreamness = (songs_by_user\n",
    "                       .agg({'num_jams': 'mean'})\n",
    "                       .rename(columns={'num_jams': 'mean_jam_popularity'})\n",
    "                       .reset_index()[['user_id', 'mean_jam_popularity']])"
   ]
  },
  {
   "cell_type": "markdown",
   "metadata": {},
   "source": [
    "Below is a graph of users ordered by mainstreamness."
   ]
  },
  {
   "cell_type": "code",
   "execution_count": 93,
   "metadata": {
    "collapsed": false
   },
   "outputs": [
    {
     "data": {
      "image/png": "[encoded data removed]",
      "text/plain": [
       "<matplotlib.figure.Figure at 0x16fb4b0d0>"
      ]
     },
     "metadata": {},
     "output_type": "display_data"
    }
   ],
   "source": [
    "log_graph(user_mainstreamness.sort('mean_jam_popularity', inplace=False)['mean_jam_popularity'], xlabel='User index', ylabel='Mainstreamness')"
   ]
  },
  {
   "cell_type": "markdown",
   "metadata": {},
   "source": [
    "With this definition of mainstreamness we can compare songs posted by \"indie\" vs. \"mainstream\" users. As an example, let us look at the most popular David Bowie songs posted by the least mainstream 33% and most mainstream 33% of users."
   ]
  },
  {
   "cell_type": "code",
   "execution_count": 102,
   "metadata": {
    "collapsed": false
   },
   "outputs": [],
   "source": [
    "def get_artist_tracks_by_user_segment(user_mainstreamness, jams_with_likes, artist, min_mainstream, max_mainstream):\n",
    "    sorted_users = user_mainstreamness.sort('mean_jam_popularity', inplace=False)\n",
    "    n = len(sorted_users)\n",
    "    user_ids = sorted_users[int(n * min_mainstream):int(n * max_mainstream)]['user_id']\n",
    "    artist_jams = jams_with_likes[(jams_with_likes['artist'].str.lower() == artist.lower()) & jams_with_likes['user_id'].isin(user_ids)]\n",
    "    artist_songs = get_songs(artist_jams)\n",
    "    return artist_songs.sort('num_jams', ascending=False, inplace=False).reset_index()[['artist', 'title', 'num_jams']]"
   ]
  },
  {
   "cell_type": "markdown",
   "metadata": {},
   "source": [
    "Indie Bowie:"
   ]
  },
  {
   "cell_type": "code",
   "execution_count": 103,
   "metadata": {
    "collapsed": false
   },
   "outputs": [
    {
     "data": {
      "text/html": [
       "<div>\n",
       "<table border=\"1\" class=\"dataframe\">\n",
       "  <thead>\n",
       "    <tr style=\"text-align: right;\">\n",
       "      <th></th>\n",
       "      <th>artist</th>\n",
       "      <th>title</th>\n",
       "      <th>num_jams</th>\n",
       "    </tr>\n",
       "  </thead>\n",
       "  <tbody>\n",
       "    <tr>\n",
       "      <th>0</th>\n",
       "      <td>David Bowie</td>\n",
       "      <td>Love Is Lost - Hello Steve Reich Mix by James ...</td>\n",
       "      <td>7</td>\n",
       "    </tr>\n",
       "    <tr>\n",
       "      <th>1</th>\n",
       "      <td>David Bowie</td>\n",
       "      <td>Golden Years</td>\n",
       "      <td>6</td>\n",
       "    </tr>\n",
       "    <tr>\n",
       "      <th>2</th>\n",
       "      <td>David Bowie</td>\n",
       "      <td>Queen Bitch</td>\n",
       "      <td>6</td>\n",
       "    </tr>\n",
       "    <tr>\n",
       "      <th>3</th>\n",
       "      <td>David Bowie</td>\n",
       "      <td>A New Career in a New Town</td>\n",
       "      <td>6</td>\n",
       "    </tr>\n",
       "    <tr>\n",
       "      <th>4</th>\n",
       "      <td>David Bowie</td>\n",
       "      <td>Always Crashing In The Same Car</td>\n",
       "      <td>5</td>\n",
       "    </tr>\n",
       "    <tr>\n",
       "      <th>5</th>\n",
       "      <td>David Bowie</td>\n",
       "      <td>We Are the Dead</td>\n",
       "      <td>5</td>\n",
       "    </tr>\n",
       "    <tr>\n",
       "      <th>6</th>\n",
       "      <td>David Bowie</td>\n",
       "      <td>Subterraneans</td>\n",
       "      <td>4</td>\n",
       "    </tr>\n",
       "    <tr>\n",
       "      <th>7</th>\n",
       "      <td>David Bowie</td>\n",
       "      <td>Slip Away</td>\n",
       "      <td>4</td>\n",
       "    </tr>\n",
       "    <tr>\n",
       "      <th>8</th>\n",
       "      <td>David Bowie</td>\n",
       "      <td>Cactus</td>\n",
       "      <td>4</td>\n",
       "    </tr>\n",
       "    <tr>\n",
       "      <th>9</th>\n",
       "      <td>David Bowie</td>\n",
       "      <td>Boys Keep Swinging</td>\n",
       "      <td>4</td>\n",
       "    </tr>\n",
       "  </tbody>\n",
       "</table>\n",
       "</div>"
      ],
      "text/plain": [
       "        artist                                              title  num_jams\n",
       "0  David Bowie  Love Is Lost - Hello Steve Reich Mix by James ...         7\n",
       "1  David Bowie                                       Golden Years         6\n",
       "2  David Bowie                                        Queen Bitch         6\n",
       "3  David Bowie                         A New Career in a New Town         6\n",
       "4  David Bowie                   Always Crashing In The Same Car          5\n",
       "5  David Bowie                                    We Are the Dead         5\n",
       "6  David Bowie                                      Subterraneans         4\n",
       "7  David Bowie                                          Slip Away         4\n",
       "8  David Bowie                                             Cactus         4\n",
       "9  David Bowie                                 Boys Keep Swinging         4"
      ]
     },
     "execution_count": 103,
     "metadata": {},
     "output_type": "execute_result"
    }
   ],
   "source": [
    "get_artist_tracks_by_user_segment(user_mainstreamness, jams_with_likes, 'david bowie', 0, 1/3.)[:10]"
   ]
  },
  {
   "cell_type": "markdown",
   "metadata": {},
   "source": [
    "Mainstream Bowie:"
   ]
  },
  {
   "cell_type": "code",
   "execution_count": 105,
   "metadata": {
    "collapsed": false
   },
   "outputs": [
    {
     "data": {
      "text/html": [
       "<div>\n",
       "<table border=\"1\" class=\"dataframe\">\n",
       "  <thead>\n",
       "    <tr style=\"text-align: right;\">\n",
       "      <th></th>\n",
       "      <th>artist</th>\n",
       "      <th>title</th>\n",
       "      <th>num_jams</th>\n",
       "    </tr>\n",
       "  </thead>\n",
       "  <tbody>\n",
       "    <tr>\n",
       "      <th>0</th>\n",
       "      <td>David Bowie</td>\n",
       "      <td>Heroes</td>\n",
       "      <td>321</td>\n",
       "    </tr>\n",
       "    <tr>\n",
       "      <th>1</th>\n",
       "      <td>David Bowie</td>\n",
       "      <td>Life On Mars</td>\n",
       "      <td>238</td>\n",
       "    </tr>\n",
       "    <tr>\n",
       "      <th>2</th>\n",
       "      <td>David Bowie</td>\n",
       "      <td>Where Are We Now?</td>\n",
       "      <td>174</td>\n",
       "    </tr>\n",
       "    <tr>\n",
       "      <th>3</th>\n",
       "      <td>David Bowie</td>\n",
       "      <td>Space Oddity</td>\n",
       "      <td>144</td>\n",
       "    </tr>\n",
       "    <tr>\n",
       "      <th>4</th>\n",
       "      <td>David Bowie</td>\n",
       "      <td>Modern Love</td>\n",
       "      <td>143</td>\n",
       "    </tr>\n",
       "    <tr>\n",
       "      <th>5</th>\n",
       "      <td>David Bowie</td>\n",
       "      <td>Starman</td>\n",
       "      <td>101</td>\n",
       "    </tr>\n",
       "    <tr>\n",
       "      <th>6</th>\n",
       "      <td>David Bowie</td>\n",
       "      <td>Ashes To Ashes</td>\n",
       "      <td>96</td>\n",
       "    </tr>\n",
       "    <tr>\n",
       "      <th>7</th>\n",
       "      <td>David Bowie</td>\n",
       "      <td>Sound And Vision</td>\n",
       "      <td>95</td>\n",
       "    </tr>\n",
       "    <tr>\n",
       "      <th>8</th>\n",
       "      <td>David Bowie</td>\n",
       "      <td>Queen Bitch</td>\n",
       "      <td>94</td>\n",
       "    </tr>\n",
       "    <tr>\n",
       "      <th>9</th>\n",
       "      <td>David Bowie</td>\n",
       "      <td>Let's Dance</td>\n",
       "      <td>84</td>\n",
       "    </tr>\n",
       "  </tbody>\n",
       "</table>\n",
       "</div>"
      ],
      "text/plain": [
       "        artist              title  num_jams\n",
       "0  David Bowie             Heroes       321\n",
       "1  David Bowie       Life On Mars       238\n",
       "2  David Bowie  Where Are We Now?       174\n",
       "3  David Bowie       Space Oddity       144\n",
       "4  David Bowie        Modern Love       143\n",
       "5  David Bowie            Starman       101\n",
       "6  David Bowie     Ashes To Ashes        96\n",
       "7  David Bowie   Sound And Vision        95\n",
       "8  David Bowie        Queen Bitch        94\n",
       "9  David Bowie        Let's Dance        84"
      ]
     },
     "execution_count": 105,
     "metadata": {},
     "output_type": "execute_result"
    }
   ],
   "source": [
    "get_artist_tracks_by_user_segment(user_mainstreamness, jams_with_likes, 'david bowie', 2/3., 1)[:10]"
   ]
  },
  {
   "cell_type": "markdown",
   "metadata": {},
   "source": [
    "One interesting observation from those tables is that the titles on the left-hand side are longer than the titles on the right-hand side. Using our data we can confirm that more popular tracks have shorter song titles. The next graph shows title length ordered by song popularity (with a rolling average of 10,000 jams)."
   ]
  },
  {
   "cell_type": "code",
   "execution_count": 106,
   "metadata": {
    "collapsed": false
   },
   "outputs": [
    {
     "data": {
      "text/plain": [
       "<matplotlib.text.Text at 0x173b30150>"
      ]
     },
     "execution_count": 106,
     "metadata": {},
     "output_type": "execute_result"
    },
    {
     "data": {
      "image/png": "[encoded data removed]",
      "text/plain": [
       "<matplotlib.figure.Figure at 0x16cc0b590>"
      ]
     },
     "metadata": {},
     "output_type": "display_data"
    }
   ],
   "source": [
    "strlen = jams.merge(songs[['song_key', 'num_jams']], on='song_key').sort('num_jams')['title'].str.len()\n",
    "plt.plot(pd.rolling_mean(strlen[strlen < 100], 10000))\n",
    "plt.ylabel('Song title length')\n",
    "plt.xlabel('Jams ordered by popularity')"
   ]
  },
  {
   "cell_type": "markdown",
   "metadata": {},
   "source": [
    "![logo](https://www.thisismyjam.com/includes/image/archives_logo@2x.png?v=2.0) "
   ]
  },
  {
   "cell_type": "markdown",
   "metadata": {},
   "source": [
    "## One-hit-wonders"
   ]
  },
  {
   "cell_type": "markdown",
   "metadata": {},
   "source": [
    "Let us define the _OneHitWonderness_ of an artist as\n",
    "\n",
    "$$\\textrm{OneHitWonderness}_a = \\frac{\\sqrt[3]{\\sum_i {J_{a, i}}^4}}{\\sum_i J_{a, i}}$$\n",
    "\n",
    "where $a$ is an artist and $J_{a,i}$ is the number of jams for song $i$ by artist $a$.\n",
    "\n",
    "Using this equation we list the top one hit wonders."
   ]
  },
  {
   "cell_type": "code",
   "execution_count": 110,
   "metadata": {
    "collapsed": false
   },
   "outputs": [
    {
     "data": {
      "text/html": [
       "<div>\n",
       "<table border=\"1\" class=\"dataframe\">\n",
       "  <thead>\n",
       "    <tr style=\"text-align: right;\">\n",
       "      <th></th>\n",
       "      <th>artist</th>\n",
       "      <th>title</th>\n",
       "      <th>num_jams</th>\n",
       "    </tr>\n",
       "  </thead>\n",
       "  <tbody>\n",
       "    <tr>\n",
       "      <th>0</th>\n",
       "      <td>PSY</td>\n",
       "      <td>GANGNAM STYLE</td>\n",
       "      <td>503</td>\n",
       "    </tr>\n",
       "    <tr>\n",
       "      <th>1</th>\n",
       "      <td>Solange</td>\n",
       "      <td>Losing You</td>\n",
       "      <td>496</td>\n",
       "    </tr>\n",
       "    <tr>\n",
       "      <th>2</th>\n",
       "      <td>Toto</td>\n",
       "      <td>Africa</td>\n",
       "      <td>423</td>\n",
       "    </tr>\n",
       "    <tr>\n",
       "      <th>3</th>\n",
       "      <td>College</td>\n",
       "      <td>A Real Hero (feat. Electric Youth)</td>\n",
       "      <td>399</td>\n",
       "    </tr>\n",
       "    <tr>\n",
       "      <th>4</th>\n",
       "      <td>Redbone</td>\n",
       "      <td>Come And Get Your Love</td>\n",
       "      <td>194</td>\n",
       "    </tr>\n",
       "    <tr>\n",
       "      <th>5</th>\n",
       "      <td>Skee-Lo</td>\n",
       "      <td>I Wish</td>\n",
       "      <td>175</td>\n",
       "    </tr>\n",
       "    <tr>\n",
       "      <th>6</th>\n",
       "      <td>Q Lazzarus</td>\n",
       "      <td>Goodbye Horses</td>\n",
       "      <td>156</td>\n",
       "    </tr>\n",
       "    <tr>\n",
       "      <th>7</th>\n",
       "      <td>White Town</td>\n",
       "      <td>Your Woman</td>\n",
       "      <td>153</td>\n",
       "    </tr>\n",
       "    <tr>\n",
       "      <th>8</th>\n",
       "      <td>Ram Jam</td>\n",
       "      <td>BLACK BETTY</td>\n",
       "      <td>145</td>\n",
       "    </tr>\n",
       "    <tr>\n",
       "      <th>9</th>\n",
       "      <td>Blue Swede</td>\n",
       "      <td>Hooked On A Feeling</td>\n",
       "      <td>133</td>\n",
       "    </tr>\n",
       "  </tbody>\n",
       "</table>\n",
       "</div>"
      ],
      "text/plain": [
       "       artist                               title  num_jams\n",
       "0         PSY                       GANGNAM STYLE       503\n",
       "1     Solange                          Losing You       496\n",
       "2        Toto                              Africa       423\n",
       "3     College  A Real Hero (feat. Electric Youth)       399\n",
       "4     Redbone              Come And Get Your Love       194\n",
       "5     Skee-Lo                              I Wish       175\n",
       "6  Q Lazzarus                      Goodbye Horses       156\n",
       "7  White Town                          Your Woman       153\n",
       "8     Ram Jam                         BLACK BETTY       145\n",
       "9  Blue Swede                 Hooked On A Feeling       133"
      ]
     },
     "execution_count": 110,
     "metadata": {},
     "output_type": "execute_result"
    }
   ],
   "source": [
    "equation = lambda x: (np.sum((x) ** 4.) ** (1/3.)) / np.sum(x)\n",
    "artist_keys = (songs[~songs['artist'].str.contains('feat')] # filter \"X feat. Y\"\n",
    "               .groupby(fuzzy_string(songs['artist']))\n",
    "               .agg({'num_jams': equation})\n",
    "               .sort('num_jams', ascending=False)\n",
    "               .head(10)\n",
    "               .index.values)\n",
    "one_hit_wonders = (songs[fuzzy_string(songs['artist']).isin(artist_keys)]\n",
    "                   .sort('num_jams', ascending=False)\n",
    "                   .reset_index())\n",
    "one_hit_wonders[['artist', 'title', 'num_jams']][:10]"
   ]
  },
  {
   "cell_type": "markdown",
   "metadata": {},
   "source": [
    "Unsurprisingly, [Gangnam Style](https://www.youtube.com/watch?v=9bZkp7q19f0) is the most one-hit-wonder of the past four years."
   ]
  },
  {
   "cell_type": "markdown",
   "metadata": {},
   "source": [
    "![logo](https://www.thisismyjam.com/includes/image/archives_logo@2x.png?v=2.0) "
   ]
  },
  {
   "cell_type": "markdown",
   "metadata": {},
   "source": [
    "## Seasonal jams"
   ]
  },
  {
   "cell_type": "markdown",
   "metadata": {},
   "source": [
    "In the next chart we plot active jams over time that have the words \"summer\" or \"christmas\" in their titles (normalized, with a rolling average of a week)."
   ]
  },
  {
   "cell_type": "code",
   "execution_count": 117,
   "metadata": {
    "collapsed": false
   },
   "outputs": [
    {
     "data": {
      "text/plain": [
       "<matplotlib.legend.Legend at 0x162adc6d0>"
      ]
     },
     "execution_count": 117,
     "metadata": {},
     "output_type": "execute_result"
    },
    {
     "data": {
      "image/png": "[encoded data removed]",
      "text/plain": [
       "<matplotlib.figure.Figure at 0x16bf34cd0>"
      ]
     },
     "metadata": {},
     "output_type": "display_data"
    }
   ],
   "source": [
    "terms = ['christmas', 'summer']\n",
    "title_string = daily_jams['title'].str.lower().str\n",
    "for term in terms:\n",
    "    mask = title_string.contains(term).fillna(False)\n",
    "    seasonal = daily_jams[mask].groupby('creation_date')['jam_id'].count()\n",
    "    seasonal = pd.rolling_mean(seasonal, 7)\n",
    "    seasonal /= np.max(seasonal)\n",
    "    seasonal.plot(label=term)\n",
    "plt.legend()"
   ]
  },
  {
   "cell_type": "markdown",
   "metadata": {},
   "source": [
    "Let us define the _christmasness_ of a song as the number of jams posted between December 1 and December 25, divided by the total number of jams for that song. The following table lists the Jam community’s favorite Christmas songs (ordered by christmasness, with a minimum of 50 jams)."
   ]
  },
  {
   "cell_type": "code",
   "execution_count": 119,
   "metadata": {
    "collapsed": true
   },
   "outputs": [],
   "source": [
    "def find_seasonal_jams(jams, songs, min_jams, month, min_day, max_day):\n",
    "    is_in_season = lambda d: (d.month == month\n",
    "                              and d.day >= min_day\n",
    "                              and d.day <= max_day)\n",
    "    mask = jams['creation_date'].map(is_in_season)\n",
    "    seasonal = (jams[mask]\n",
    "                .groupby('song_key')['jam_id']\n",
    "                .count())\n",
    "    joined = songs.join(seasonal, on='song_key', how='left').fillna(0)\n",
    "    joined['ratio'] = joined['jam_id'] / joined['num_jams']\n",
    "    return (joined[joined['num_jams'] > min_jams]\n",
    "            .sort(['ratio', 'num_jams'], ascending=False)\n",
    "            .reset_index())"
   ]
  },
  {
   "cell_type": "code",
   "execution_count": 121,
   "metadata": {
    "collapsed": false
   },
   "outputs": [
    {
     "data": {
      "text/html": [
       "<div>\n",
       "<table border=\"1\" class=\"dataframe\">\n",
       "  <thead>\n",
       "    <tr style=\"text-align: right;\">\n",
       "      <th></th>\n",
       "      <th>artist</th>\n",
       "      <th>title</th>\n",
       "      <th>ratio</th>\n",
       "      <th>num_jams</th>\n",
       "    </tr>\n",
       "  </thead>\n",
       "  <tbody>\n",
       "    <tr>\n",
       "      <th>0</th>\n",
       "      <td>The Kinks</td>\n",
       "      <td>Father Christmas</td>\n",
       "      <td>0.954545</td>\n",
       "      <td>88</td>\n",
       "    </tr>\n",
       "    <tr>\n",
       "      <th>1</th>\n",
       "      <td>Ramones</td>\n",
       "      <td>Merry Christmas (I Don't Want to Fight Tonight)</td>\n",
       "      <td>0.945455</td>\n",
       "      <td>55</td>\n",
       "    </tr>\n",
       "    <tr>\n",
       "      <th>2</th>\n",
       "      <td>Julian Casablancas</td>\n",
       "      <td>I Wish It Was Christmas Today</td>\n",
       "      <td>0.932203</td>\n",
       "      <td>59</td>\n",
       "    </tr>\n",
       "    <tr>\n",
       "      <th>3</th>\n",
       "      <td>Bob Dylan</td>\n",
       "      <td>Must Be Santa</td>\n",
       "      <td>0.923913</td>\n",
       "      <td>92</td>\n",
       "    </tr>\n",
       "    <tr>\n",
       "      <th>4</th>\n",
       "      <td>Kate Bush</td>\n",
       "      <td>December Will Be Magic Again</td>\n",
       "      <td>0.921569</td>\n",
       "      <td>51</td>\n",
       "    </tr>\n",
       "    <tr>\n",
       "      <th>5</th>\n",
       "      <td>The Darkness</td>\n",
       "      <td>Christmas Time (Don't Let The Bells End)</td>\n",
       "      <td>0.919355</td>\n",
       "      <td>62</td>\n",
       "    </tr>\n",
       "    <tr>\n",
       "      <th>6</th>\n",
       "      <td>Low</td>\n",
       "      <td>Just Like Christmas</td>\n",
       "      <td>0.918033</td>\n",
       "      <td>183</td>\n",
       "    </tr>\n",
       "    <tr>\n",
       "      <th>7</th>\n",
       "      <td>Run-DMC</td>\n",
       "      <td>Christmas In Hollis</td>\n",
       "      <td>0.917722</td>\n",
       "      <td>158</td>\n",
       "    </tr>\n",
       "    <tr>\n",
       "      <th>8</th>\n",
       "      <td>Darlene Love</td>\n",
       "      <td>Christmas (Baby Please Come Home)</td>\n",
       "      <td>0.914894</td>\n",
       "      <td>94</td>\n",
       "    </tr>\n",
       "    <tr>\n",
       "      <th>9</th>\n",
       "      <td>The Waitresses</td>\n",
       "      <td>Christmas Wrapping</td>\n",
       "      <td>0.899038</td>\n",
       "      <td>208</td>\n",
       "    </tr>\n",
       "  </tbody>\n",
       "</table>\n",
       "</div>"
      ],
      "text/plain": [
       "               artist                                            title  \\\n",
       "0           The Kinks                                 Father Christmas   \n",
       "1             Ramones  Merry Christmas (I Don't Want to Fight Tonight)   \n",
       "2  Julian Casablancas                    I Wish It Was Christmas Today   \n",
       "3           Bob Dylan                                    Must Be Santa   \n",
       "4           Kate Bush                     December Will Be Magic Again   \n",
       "5        The Darkness         Christmas Time (Don't Let The Bells End)   \n",
       "6                 Low                              Just Like Christmas   \n",
       "7             Run-DMC                              Christmas In Hollis   \n",
       "8        Darlene Love                Christmas (Baby Please Come Home)   \n",
       "9      The Waitresses                               Christmas Wrapping   \n",
       "\n",
       "      ratio  num_jams  \n",
       "0  0.954545        88  \n",
       "1  0.945455        55  \n",
       "2  0.932203        59  \n",
       "3  0.923913        92  \n",
       "4  0.921569        51  \n",
       "5  0.919355        62  \n",
       "6  0.918033       183  \n",
       "7  0.917722       158  \n",
       "8  0.914894        94  \n",
       "9  0.899038       208  "
      ]
     },
     "execution_count": 121,
     "metadata": {},
     "output_type": "execute_result"
    }
   ],
   "source": [
    "find_seasonal_jams(jams, songs, 50, 12, 1, 25)[:10][['artist', 'title', 'ratio', 'num_jams']]"
   ]
  },
  {
   "cell_type": "markdown",
   "metadata": {},
   "source": [
    "Using the same algorithm we can attempt to find Halloween jams."
   ]
  },
  {
   "cell_type": "code",
   "execution_count": 124,
   "metadata": {
    "collapsed": false
   },
   "outputs": [
    {
     "data": {
      "text/html": [
       "<div>\n",
       "<table border=\"1\" class=\"dataframe\">\n",
       "  <thead>\n",
       "    <tr style=\"text-align: right;\">\n",
       "      <th></th>\n",
       "      <th>artist</th>\n",
       "      <th>title</th>\n",
       "      <th>ratio</th>\n",
       "      <th>num_jams</th>\n",
       "    </tr>\n",
       "  </thead>\n",
       "  <tbody>\n",
       "    <tr>\n",
       "      <th>0</th>\n",
       "      <td>Lou Reed</td>\n",
       "      <td>Halloween Parade</td>\n",
       "      <td>0.954545</td>\n",
       "      <td>44</td>\n",
       "    </tr>\n",
       "    <tr>\n",
       "      <th>1</th>\n",
       "      <td>Mary J. Blige</td>\n",
       "      <td>Be Without You</td>\n",
       "      <td>0.812500</td>\n",
       "      <td>32</td>\n",
       "    </tr>\n",
       "    <tr>\n",
       "      <th>2</th>\n",
       "      <td>Misfits</td>\n",
       "      <td>Halloween</td>\n",
       "      <td>0.740741</td>\n",
       "      <td>27</td>\n",
       "    </tr>\n",
       "    <tr>\n",
       "      <th>3</th>\n",
       "      <td>Lady Gaga</td>\n",
       "      <td>Do What U Want (feat. R Kelly)</td>\n",
       "      <td>0.735294</td>\n",
       "      <td>34</td>\n",
       "    </tr>\n",
       "    <tr>\n",
       "      <th>4</th>\n",
       "      <td>Danny Elfman</td>\n",
       "      <td>This is Halloween</td>\n",
       "      <td>0.695652</td>\n",
       "      <td>23</td>\n",
       "    </tr>\n",
       "    <tr>\n",
       "      <th>5</th>\n",
       "      <td>Bobby \"Boris\" Pickett</td>\n",
       "      <td>Monster Mash</td>\n",
       "      <td>0.692308</td>\n",
       "      <td>26</td>\n",
       "    </tr>\n",
       "    <tr>\n",
       "      <th>6</th>\n",
       "      <td>Tracy Jordan</td>\n",
       "      <td>Werewolf Bar Mitzvah</td>\n",
       "      <td>0.666667</td>\n",
       "      <td>30</td>\n",
       "    </tr>\n",
       "    <tr>\n",
       "      <th>7</th>\n",
       "      <td>Marilyn Manson</td>\n",
       "      <td>This Is Halloween</td>\n",
       "      <td>0.656250</td>\n",
       "      <td>32</td>\n",
       "    </tr>\n",
       "    <tr>\n",
       "      <th>8</th>\n",
       "      <td>Ministry</td>\n",
       "      <td>Everyday Is Halloween</td>\n",
       "      <td>0.612500</td>\n",
       "      <td>80</td>\n",
       "    </tr>\n",
       "    <tr>\n",
       "      <th>9</th>\n",
       "      <td>The Weeknd</td>\n",
       "      <td>Enemy</td>\n",
       "      <td>0.580645</td>\n",
       "      <td>31</td>\n",
       "    </tr>\n",
       "  </tbody>\n",
       "</table>\n",
       "</div>"
      ],
      "text/plain": [
       "                  artist                           title     ratio  num_jams\n",
       "0               Lou Reed                Halloween Parade  0.954545        44\n",
       "1          Mary J. Blige                  Be Without You  0.812500        32\n",
       "2                Misfits                       Halloween  0.740741        27\n",
       "3              Lady Gaga  Do What U Want (feat. R Kelly)  0.735294        34\n",
       "4           Danny Elfman               This is Halloween  0.695652        23\n",
       "5  Bobby \"Boris\" Pickett                    Monster Mash  0.692308        26\n",
       "6           Tracy Jordan            Werewolf Bar Mitzvah  0.666667        30\n",
       "7         Marilyn Manson               This Is Halloween  0.656250        32\n",
       "8               Ministry           Everyday Is Halloween  0.612500        80\n",
       "9             The Weeknd                           Enemy  0.580645        31"
      ]
     },
     "execution_count": 124,
     "metadata": {},
     "output_type": "execute_result"
    }
   ],
   "source": [
    "find_seasonal_jams(jams, songs, 20, 10, 20, 31)[:10][['artist', 'title', 'ratio', 'num_jams']]"
   ]
  }
 ],
 "metadata": {
  "kernelspec": {
   "display_name": "Python 2",
   "language": "python",
   "name": "python2"
  },
  "language_info": {
   "codemirror_mode": {
    "name": "ipython",
    "version": 2
   },
   "file_extension": ".py",
   "mimetype": "text/x-python",
   "name": "python",
   "nbconvert_exporter": "python",
   "pygments_lexer": "ipython2",
   "version": "2.7.10"
  }
 },
 "nbformat": 4,
 "nbformat_minor": 0
}
